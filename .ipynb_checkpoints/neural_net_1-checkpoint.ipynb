{
 "cells": [
  {
   "cell_type": "code",
   "execution_count": null,
   "metadata": {},
   "outputs": [
    {
     "name": "stderr",
     "output_type": "stream",
     "text": [
      "C:\\Users\\admin\\Anaconda3\\lib\\site-packages\\sklearn\\preprocessing\\label.py:111: DataConversionWarning: A column-vector y was passed when a 1d array was expected. Please change the shape of y to (n_samples, ), for example using ravel().\n",
      "  y = column_or_1d(y, warn=True)\n",
      "Using TensorFlow backend.\n"
     ]
    },
    {
     "ename": "ModuleNotFoundError",
     "evalue": "No module named 'numpy.core._multiarray_umath'",
     "output_type": "error",
     "traceback": [
      "\u001b[1;31m---------------------------------------------------------------------------\u001b[0m",
      "\u001b[1;31mModuleNotFoundError\u001b[0m                       Traceback (most recent call last)",
      "\u001b[1;31mModuleNotFoundError\u001b[0m: No module named 'numpy.core._multiarray_umath'"
     ]
    },
    {
     "ename": "SystemError",
     "evalue": "<class '_frozen_importlib._ModuleLockManager'> returned a result with an error set",
     "output_type": "error",
     "traceback": [
      "\u001b[1;31m---------------------------------------------------------------------------\u001b[0m",
      "\u001b[1;31mImportError\u001b[0m                               Traceback (most recent call last)",
      "\u001b[1;31mImportError\u001b[0m: numpy.core.multiarray failed to import",
      "\nThe above exception was the direct cause of the following exception:\n",
      "\u001b[1;31mSystemError\u001b[0m                               Traceback (most recent call last)",
      "\u001b[1;32m~\\Anaconda3\\lib\\importlib\\_bootstrap.py\u001b[0m in \u001b[0;36m_find_and_load\u001b[1;34m(name, import_)\u001b[0m\n",
      "\u001b[1;31mSystemError\u001b[0m: <class '_frozen_importlib._ModuleLockManager'> returned a result with an error set"
     ]
    },
    {
     "ename": "ImportError",
     "evalue": "numpy.core._multiarray_umath failed to import",
     "output_type": "error",
     "traceback": [
      "\u001b[1;31m---------------------------------------------------------------------------\u001b[0m",
      "\u001b[1;31mImportError\u001b[0m                               Traceback (most recent call last)",
      "\u001b[1;31mImportError\u001b[0m: numpy.core._multiarray_umath failed to import"
     ]
    },
    {
     "ename": "ImportError",
     "evalue": "numpy.core.umath failed to import",
     "output_type": "error",
     "traceback": [
      "\u001b[1;31m---------------------------------------------------------------------------\u001b[0m",
      "\u001b[1;31mImportError\u001b[0m                               Traceback (most recent call last)",
      "\u001b[1;31mImportError\u001b[0m: numpy.core.umath failed to import"
     ]
    }
   ],
   "source": [
    "#!/usr/bin/env python3\n",
    "# -*- coding: utf-8 -*-\n",
    "\"\"\"\n",
    "Created on Sat Feb 16 20:52:40 2019\n",
    "\n",
    "@author: natasha\n",
    "\"\"\"\n",
    "\n",
    "import numpy as np\n",
    "import pandas as pd\n",
    "import matplotlib.pyplot as plt\n",
    "import seaborn as sns\n",
    "\n",
    "from sklearn.model_selection import train_test_split\n",
    "from sklearn.metrics import confusion_matrix\n",
    "\n",
    "dataset=pd.read_csv('Telecom.csv')\n",
    "dataset_copy=pd.read_csv('Telecom.csv')\n",
    "#dataset.info()\n",
    "#Convert total charges to a numeric value\n",
    "dataset_copy['TotalCharges']=pd.to_numeric(dataset_copy['TotalCharges'],errors='coerce')\n",
    "#we have 11 missing values in the total charges column now, in the total charges column.\n",
    "#Also on inspection it was found that they had a tenure of 0. This data is not really useful to us, since their total charges are not available to us, and the tenure itself is 0.\n",
    "#Dropping all null values\n",
    "dataset_copy.dropna(how='any',inplace=True)\n",
    "numerical_cols=['SeniorCitizen','tenure','MonthlyCharges','TotalCharges']\n",
    "categorical_cols=[ 'gender', 'Partner', 'Dependents', 'PhoneService', 'MultipleLines', 'InternetService',\n",
    "       'OnlineSecurity', 'OnlineBackup', 'DeviceProtection', 'TechSupport',\n",
    "       'StreamingTV', 'StreamingMovies', 'Contract', 'PaperlessBilling',\n",
    "       'PaymentMethod']\n",
    "#DataVisualization\n",
    "#sns.boxplot(x='Churn',y='MonthlyCharges',data=dataset_copy)\n",
    "#sns.boxplot(x='MonthlyCharges',data=dataset_copy)\n",
    "#sns.boxplot(x='Churn',y='TotalCharges',data=dataset_copy)\n",
    "\n",
    "data_cont = ['tenure','MonthlyCharges', 'TotalCharges']\n",
    "data_cat = ['gender', 'SeniorCitizen', 'Partner', 'Dependents',\n",
    "            'PhoneService', 'MultipleLines', 'InternetService',\n",
    "            'OnlineSecurity', 'OnlineBackup', 'DeviceProtection',\n",
    "            'TechSupport','StreamingTV','StreamingMovies',\n",
    "            'Contract', 'PaperlessBilling','PaymentMethod']\n",
    "\n",
    "#visualization code from https://github.com/MET4LHE4D/Telco-Customer-Churn-Prediction-Using-ANN/blob/master/CustomerChurnPrediction.ipynb\n",
    "\n",
    "fig , ax = plt.subplots(4,4,figsize=(20,20))\n",
    "sns.set(style=\"ticks\", color_codes=True)\n",
    "for axis,col in zip(ax.flat,data_cat):\n",
    "    sns.countplot(x=dataset_copy[\"Churn\"],hue=dataset_copy[col],ax=axis)\n",
    "dataset_copy=dataset_copy.drop('customerID',axis=1)\n",
    "from sklearn.preprocessing import LabelEncoder\n",
    "from sklearn.preprocessing import OneHotEncoder\n",
    "label_encoder=LabelEncoder()\n",
    "for cols in data_cat:\n",
    "    dataset_copy.loc[:,cols] = LabelEncoder().fit_transform(dataset_copy.loc[:,cols])\n",
    "\n",
    "onehotencoder = OneHotEncoder(sparse=False)\n",
    "data_categorical = onehotencoder.fit_transform(dataset_copy[data_cat])\n",
    "from sklearn.preprocessing import StandardScaler\n",
    "standard_scaler=StandardScaler()\n",
    "data_numeric=standard_scaler.fit_transform(dataset_copy[data_cont])\n",
    "features=np.concatenate([data_categorical,data_numeric],axis=1)\n",
    "target=dataset_copy.iloc[:,19:].values\n",
    "target=label_encoder.fit_transform(target)\n",
    "X_train, X_test, y_train, y_test = train_test_split(features, target, test_size = 0.2, random_state = 0)\n",
    "from sklearn.linear_model import LogisticRegression\n",
    "classifier=LogisticRegression()\n",
    "classifier.fit(X_train,y_train)\n",
    "y_pred=classifier.predict(X_test)\n",
    "\n",
    "conf_matrix=confusion_matrix(y_test,y_pred)\n",
    "conf_matrix\n",
    "from sklearn.metrics import accuracy_score\n",
    "accuracy=accuracy_score(y_test,y_pred)\n",
    "import keras\n",
    "from keras.models import Sequential\n",
    "from keras.layers import Dense\n",
    "classifier=Sequential()\n",
    "#followed a random method for setting the output dim (num of input variables + no of final output variables(one here since its a binary classification,divided by two))\n",
    "classifier.add(Dense(input_dim=46,output_dim=10,init='uniform',activation='relu'))\n",
    "classifier.add(Dense(output_dim=10,init='uniform',activation='relu'))\n",
    "classifier.add(Dense(output_dim=1,init='uniform',activation='sigmoid'))\n",
    "classifier.compile(optimizer='adam',loss='binary_crossentropy',metrics=['accuracy'])\n",
    "classifier.fit(X_train,y_train,batch_size=10,nb_epoch=100)\n",
    "y_pred_neural=classifier.predict(X_test)\n",
    "\n",
    "conf_matrix_neural=confusion_matrix(y_test,y_pred_neural)\n",
    "print(conf_matrix_neural)\n",
    "\n"
   ]
  },
  {
   "cell_type": "code",
   "execution_count": null,
   "metadata": {},
   "outputs": [],
   "source": []
  }
 ],
 "metadata": {
  "kernelspec": {
   "display_name": "Python 3",
   "language": "python",
   "name": "python3"
  },
  "language_info": {
   "codemirror_mode": {
    "name": "ipython",
    "version": 3
   },
   "file_extension": ".py",
   "mimetype": "text/x-python",
   "name": "python",
   "nbconvert_exporter": "python",
   "pygments_lexer": "ipython3",
   "version": "3.7.0"
  }
 },
 "nbformat": 4,
 "nbformat_minor": 2
}
